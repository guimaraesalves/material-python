{
 "cells": [
  {
   "cell_type": "markdown",
   "metadata": {},
   "source": [
    "## Caderno de Exercı́cios\n",
    "### Processamento da Informação – Edição Python"
   ]
  },
  {
   "cell_type": "markdown",
   "metadata": {},
   "source": [
    "## 3 Laços"
   ]
  },
  {
   "cell_type": "code",
   "execution_count": 34,
   "metadata": {},
   "outputs": [
    {
     "data": {
      "text/plain": [
       "131071.0"
      ]
     },
     "execution_count": 34,
     "metadata": {},
     "output_type": "execute_result"
    }
   ],
   "source": [
    "# Simule a execução da função abaixo e indique (algebricamente) a \n",
    "# sua saı́da. # Considere valores de b diferentes de zero, e p < q.\n",
    "def funcaoEnigma1(a,b,p,q):\n",
    "    a = float(a)\n",
    "    b = float(b)\n",
    "    p = int(p)\n",
    "    q = int(q)\n",
    "    i = 0\n",
    "    soma = 0\n",
    "    if (a != 0) and (b != 0) and (p < q):\n",
    "        while i<=(q-p):\n",
    "            soma = soma + (a/b)**(i)\n",
    "            i = i+1\n",
    "        return soma\n",
    "    else:\n",
    "        return print(\"Não Pode.\")\n",
    "\n",
    "funcaoEnigma1(2,1,2,18)\n",
    "    "
   ]
  },
  {
   "cell_type": "code",
   "execution_count": 41,
   "metadata": {},
   "outputs": [
    {
     "name": "stdout",
     "output_type": "stream",
     "text": [
      "Número: 2\n"
     ]
    },
    {
     "data": {
      "text/plain": [
       "0"
      ]
     },
     "execution_count": 41,
     "metadata": {},
     "output_type": "execute_result"
    }
   ],
   "source": [
    "# Simule a execução da função abaixo e indique (algebricamente) \n",
    "# a sua saı́da. Considere valores de n > 0\n",
    "n = int(input('Número: '))\n",
    "def funcaoEnigma3(n):\n",
    "    soma = 0\n",
    "    for i in range(1, n + 1):\n",
    "        soma = soma + i\n",
    "    j = 1\n",
    "    while j <= n:\n",
    "        soma = soma - j\n",
    "        j = j + 1\n",
    "    return soma\n",
    "\n",
    "funcaoEnigma3(n)"
   ]
  },
  {
   "cell_type": "code",
   "execution_count": 45,
   "metadata": {},
   "outputs": [
    {
     "data": {
      "text/plain": [
       "1.0"
      ]
     },
     "execution_count": 45,
     "metadata": {},
     "output_type": "execute_result"
    }
   ],
   "source": [
    "# Simule a execução da função abaixo e indique (algebricamente) \n",
    "# a sua saı́da. Considere valores de n > 0;\n",
    "def funcaoEnigma4(n):\n",
    "    mult = 1.0\n",
    "    i = 0\n",
    "    while i <= n - 2:\n",
    "        mult = mult * ((i + 1.0)/(i + 2.0))\n",
    "        i = i + 1\n",
    "    return mult * n\n",
    "funcaoEnigma4(5)"
   ]
  },
  {
   "cell_type": "code",
   "execution_count": 46,
   "metadata": {},
   "outputs": [
    {
     "name": "stdout",
     "output_type": "stream",
     "text": [
      "Quantas vezes você quer imprimir? 6\n",
      "Viva Nossa Senhora da Penha!\n",
      "Viva Nossa Senhora da Penha!\n",
      "Viva Nossa Senhora da Penha!\n",
      "Viva Nossa Senhora da Penha!\n",
      "Viva Nossa Senhora da Penha!\n",
      "Viva Nossa Senhora da Penha!\n"
     ]
    }
   ],
   "source": [
    "# Crie uma função que permita imprimir a palavra SPAM, n vezes.\n",
    "# Primeira versao usando o laco for\n",
    "n = int(input('Quantas vezes você quer imprimir? '))\n",
    "def imprime1(n):\n",
    "    for i in range(1, n+1):\n",
    "        print('Viva Nossa Senhora da Penha!')\n",
    "        \n",
    "\n",
    "imprime1(n)"
   ]
  },
  {
   "cell_type": "code",
   "execution_count": 47,
   "metadata": {},
   "outputs": [
    {
     "name": "stdout",
     "output_type": "stream",
     "text": [
      "Quantas vezes você quer imprimir? 6\n",
      "Salve Rainha!\n",
      "Salve Rainha!\n",
      "Salve Rainha!\n",
      "Salve Rainha!\n",
      "Salve Rainha!\n",
      "Salve Rainha!\n"
     ]
    }
   ],
   "source": [
    "# Crie uma função que permita imprimir a palavra SPAM, n vezes.\n",
    "# Segunda versão usando o laço while\n",
    "n = int(input('Quantas vezes você quer imprimir? '))\n",
    "def imprime2(n):\n",
    "    i = 1\n",
    "    while i <= n:\n",
    "        print('Salve Rainha!')\n",
    "        i = i + 1\n",
    "        \n",
    "imprime2(n)"
   ]
  },
  {
   "cell_type": "code",
   "execution_count": 50,
   "metadata": {},
   "outputs": [
    {
     "name": "stdout",
     "output_type": "stream",
     "text": [
      "Digite o número: 5\n",
      "1\n",
      "2\n",
      "3\n",
      "4\n",
      "5\n"
     ]
    }
   ],
   "source": [
    "# Crie uma função que permita imprimir os primeiros n números naturais.\n",
    "# Primeira versao usando o laço for\n",
    "n = int(input('Digite o número: '))\n",
    "def imprimen1(n):\n",
    "    for i in range(1, n+1):\n",
    "        print(i)\n",
    "imprimen1(n)\n"
   ]
  },
  {
   "cell_type": "code",
   "execution_count": 51,
   "metadata": {},
   "outputs": [
    {
     "name": "stdout",
     "output_type": "stream",
     "text": [
      "Digite o numero: 8\n",
      "1\n",
      "2\n",
      "3\n",
      "4\n",
      "5\n",
      "6\n",
      "7\n",
      "8\n"
     ]
    }
   ],
   "source": [
    "# Crie uma função que permita imprimir os primeiros n números naturais.\n",
    "# Segunda versao usando o laço while\n",
    "n = int(input('Digite o numero: '))\n",
    "def imprimen2(n):\n",
    "    i = 1\n",
    "    while i <= n:\n",
    "        print(i)\n",
    "        i = i + 1\n",
    "        \n",
    "imprimen2(n)"
   ]
  },
  {
   "cell_type": "code",
   "execution_count": 53,
   "metadata": {},
   "outputs": [
    {
     "name": "stdout",
     "output_type": "stream",
     "text": [
      "Digite um número: 21\n",
      "1\n",
      "3\n",
      "5\n",
      "7\n",
      "9\n",
      "11\n",
      "13\n",
      "15\n",
      "17\n",
      "19\n",
      "21\n"
     ]
    }
   ],
   "source": [
    "# Crie uma função que permita mostrar uma sequência \n",
    "# de números ı́mpares de 1 até n.\n",
    "# 1º versao laço for\n",
    "n = int(input(\"Digite um número: \"))\n",
    "def imprimeImpar1(n):\n",
    "    for i in range(1, n+1):\n",
    "        if i%2 == 1:\n",
    "            print(i)\n",
    "            \n",
    "imprimeImpar1(n)"
   ]
  },
  {
   "cell_type": "code",
   "execution_count": 56,
   "metadata": {},
   "outputs": [
    {
     "name": "stdout",
     "output_type": "stream",
     "text": [
      "Digite um numero: 21\n",
      "1\n",
      "3\n",
      "5\n",
      "7\n",
      "9\n",
      "11\n",
      "13\n",
      "15\n",
      "17\n",
      "19\n",
      "21\n"
     ]
    }
   ],
   "source": [
    "# Crie uma função que permita mostrar uma sequência \n",
    "# de números ı́mpares de 1 até n.\n",
    "# 2º versao laço while\n",
    "n = int(input('Digite um numero: '))\n",
    "def imprimeImpar2(n):\n",
    "    i = 1\n",
    "    while i <= n:\n",
    "        if i % 2 == 1:\n",
    "            print(i)\n",
    "        i = i + 1\n",
    "    \n",
    "imprimeImpar2(n)"
   ]
  },
  {
   "cell_type": "code",
   "execution_count": 5,
   "metadata": {},
   "outputs": [
    {
     "name": "stdout",
     "output_type": "stream",
     "text": [
      "digite x: 20\n",
      "digite y: 10\n",
      "10\n",
      "11\n",
      "12\n",
      "13\n",
      "14\n",
      "15\n",
      "16\n",
      "17\n",
      "18\n",
      "19\n",
      "20\n"
     ]
    }
   ],
   "source": [
    "# Crie uma função que permita mostrar a sequência de números inteiros, \n",
    "# no intervalo [x, y]. Considere x < y.\n",
    "x = int(input('digite x: '))\n",
    "y = int(input ('digite y: '))\n",
    "if x > y:\n",
    "    ini = y\n",
    "    fim = x\n",
    "else:\n",
    "    ini = x\n",
    "    fim = y\n",
    "    \n",
    "def seqInterv1(n):\n",
    "    for i in range(ini, fim + 1):\n",
    "        print(i)\n",
    "        \n",
    "seqInterv1(n)"
   ]
  },
  {
   "cell_type": "code",
   "execution_count": 14,
   "metadata": {},
   "outputs": [
    {
     "name": "stdout",
     "output_type": "stream",
     "text": [
      "digite x: 10\n",
      "digite y: 0\n",
      "1\n",
      "2\n",
      "3\n",
      "4\n",
      "5\n",
      "6\n",
      "7\n",
      "8\n",
      "9\n",
      "-------\n",
      "45\n"
     ]
    }
   ],
   "source": [
    "# 9 Crie uma função que permita somar a sequência de números inteiros,\n",
    "# no intervalo [x, y]. Considere x < y:\n",
    "\n",
    "    \n",
    "def sumSeq1(ini, fim):\n",
    "    x = int(input('digite x: '))\n",
    "    y = int(input('digite y: '))\n",
    "    s = 0\n",
    "    if x > y:\n",
    "        ini = y\n",
    "        fim = x\n",
    "    else:\n",
    "        ini = x\n",
    "        fim = y\n",
    "    for i in range(ini+1, fim):\n",
    "        s = s + i\n",
    "        print (i)\n",
    "    print ('-------')\n",
    "    print (s)\n",
    "        \n",
    "        \n",
    "sumSeq1(x, y)\n"
   ]
  },
  {
   "cell_type": "code",
   "execution_count": 22,
   "metadata": {},
   "outputs": [
    {
     "name": "stdout",
     "output_type": "stream",
     "text": [
      "Digite um número: 6\n"
     ]
    },
    {
     "data": {
      "text/plain": [
       "3"
      ]
     },
     "execution_count": 22,
     "metadata": {},
     "output_type": "execute_result"
    }
   ],
   "source": [
    "# 10 - Crie uma função que permita o calculo da seguinte somatória:\n",
    "# −1 + 2 − 3 + 4 − 5 + 6 + · · · + n\n",
    "def calcsomatoria1(n):\n",
    "    n = int(input('Digite um número: '))\n",
    "    s = 0\n",
    "    for i in range(1, n + 1):\n",
    "        if i % 2 == 0:\n",
    "            s = s + i\n",
    "        else:\n",
    "            s = s -i\n",
    "    return s\n",
    "\n",
    "calcsomatoria1(n)"
   ]
  },
  {
   "cell_type": "code",
   "execution_count": 21,
   "metadata": {},
   "outputs": [
    {
     "data": {
      "text/plain": [
       "3"
      ]
     },
     "execution_count": 21,
     "metadata": {},
     "output_type": "execute_result"
    }
   ],
   "source": [
    "# 10 - Resolução da apostila\n",
    "def somaQ(n):\n",
    "    soma = 0\n",
    "    for i in range(1,n+1):\n",
    "        soma = soma + i*( (-1)**i)\n",
    "    return soma\n",
    "\n",
    "somaQ(6)"
   ]
  },
  {
   "cell_type": "code",
   "execution_count": 24,
   "metadata": {},
   "outputs": [
    {
     "name": "stdout",
     "output_type": "stream",
     "text": [
      "Digite um Nº: 2\n"
     ]
    },
    {
     "data": {
      "text/plain": [
       "5"
      ]
     },
     "execution_count": 24,
     "metadata": {},
     "output_type": "execute_result"
    }
   ],
   "source": [
    "# 11. Crie uma função somaP, em que dado um inteiro n > 0, \n",
    "# permita somar a seguinte sequência: 1** 2 + 2** 2 + · · · + n ** 2\n",
    "def somaFat(n):\n",
    "    n = int(input('Digite um Nº: '))\n",
    "    s = 0\n",
    "    for i in range(1, n+1):\n",
    "        s = (i**2) + s\n",
    "    return s\n",
    "\n",
    "somaFat(n)"
   ]
  },
  {
   "cell_type": "code",
   "execution_count": 34,
   "metadata": {},
   "outputs": [
    {
     "name": "stdout",
     "output_type": "stream",
     "text": [
      "Digite um numero para o expoente máximo: 2\n"
     ]
    },
    {
     "data": {
      "text/plain": [
       "5"
      ]
     },
     "execution_count": 34,
     "metadata": {},
     "output_type": "execute_result"
    }
   ],
   "source": [
    "# 13. Modifique a função somaP em que, além do número n, \n",
    "# seja utilizado um outro número k, de tal forma que o \n",
    "# calculo da seguinte somatória seja realizada: \n",
    "# k ** 1 + k ** 2 + · · · + k ** n\n",
    "\n",
    "def somaP(n):\n",
    "    n = int(input('Digite um numero para o expoente máximo: '))\n",
    "    s = 0\n",
    "    for i in range(1, n + 1):\n",
    "        s = (s + (i ** i))\n",
    "            \n",
    "    return s\n",
    "\n",
    "somaP(n)\n",
    "            "
   ]
  },
  {
   "cell_type": "code",
   "execution_count": 37,
   "metadata": {},
   "outputs": [
    {
     "name": "stdout",
     "output_type": "stream",
     "text": [
      "Nº: 6\n"
     ]
    },
    {
     "data": {
      "text/plain": [
       "720"
      ]
     },
     "execution_count": 37,
     "metadata": {},
     "output_type": "execute_result"
    }
   ],
   "source": [
    "# Crie uma função em que, dado um inteiro não-negativo n, \n",
    "# seja possı́vel determinar n!.\n",
    "# Primeira versao usando o laco for\n",
    "\n",
    "def fat1(n):\n",
    "    n = int(input(\"Nº: \"))\n",
    "    f = 1\n",
    "    for i in range (1, n):\n",
    "        f = f * i + f\n",
    "        \n",
    "    return f\n",
    "\n",
    "fat1(n)\n",
    "        "
   ]
  },
  {
   "cell_type": "markdown",
   "metadata": {},
   "source": [
    "**15** - Dizemos que um número natural é triangular se ele é produto de três número naturais\n",
    "consecutivos. Por exemplo: 120 é triangular, pois 4x5x6 = 120. 2730 é triangular,\n",
    "pois 13x14x15 = 2730. Dado um inteiro não-negativo n, crie uma função para\n",
    "verificar se n é triangular. Deve-se devolver True se o número for triangular, caso\n",
    "contrário False."
   ]
  },
  {
   "cell_type": "code",
   "execution_count": 41,
   "metadata": {},
   "outputs": [
    {
     "name": "stdout",
     "output_type": "stream",
     "text": [
      "Nº: 55\n",
      "Não é Triangular.\n"
     ]
    }
   ],
   "source": [
    "# Primeira versão laço for\n",
    "def numTriangular(n):\n",
    "    n = int(input(\"Nº: \"))\n",
    "    for i in range(3, n+1):\n",
    "        if (i - 2)*(i - 1)*(i) == n:\n",
    "            return print('É triangular.')\n",
    "    return print('Não é Triangular.')\n",
    "\n",
    "numTriangular(n)"
   ]
  },
  {
   "cell_type": "code",
   "execution_count": 43,
   "metadata": {},
   "outputs": [
    {
     "name": "stdout",
     "output_type": "stream",
     "text": [
      "Nº: 120\n"
     ]
    },
    {
     "data": {
      "text/plain": [
       "True"
      ]
     },
     "execution_count": 43,
     "metadata": {},
     "output_type": "execute_result"
    }
   ],
   "source": [
    "# Segunda versão laço while\n",
    "def numTriangular2(n):\n",
    "    n = int(input(\"Nº: \"))\n",
    "    i = 3\n",
    "    while i < n:\n",
    "        if (i - 2)*(i - 1)*(i) == n:\n",
    "            return True\n",
    "        i = i + 1\n",
    "    return False\n",
    "\n",
    "numTriangular2(n)\n",
    "\n",
    "    "
   ]
  },
  {
   "cell_type": "markdown",
   "metadata": {},
   "source": [
    "#### 16. Dado um inteiro positivo p, crie uma função para verificar se p é primo."
   ]
  },
  {
   "cell_type": "code",
   "execution_count": 82,
   "metadata": {},
   "outputs": [
    {
     "data": {
      "text/plain": [
       "True"
      ]
     },
     "execution_count": 82,
     "metadata": {},
     "output_type": "execute_result"
    }
   ],
   "source": [
    "def primo(p):\n",
    "    contador = 0\n",
    "    for i in range(1,p+1):\n",
    "        if p%i==0:\n",
    "            contador = contador+1\n",
    "    if contador==2:\n",
    "        return True\n",
    "    else:\n",
    "        return False\n",
    "   \n",
    "        \n",
    "\n",
    "primo(3)"
   ]
  },
  {
   "cell_type": "markdown",
   "metadata": {},
   "source": [
    "**17**. Escreva uma função que receba um inteiro não-negativo n e imprima a soma dos\n",
    "n primeiros números primos. Por exemplo: Para n=3, resultado 10=2+3+5. Para\n",
    "n=7, resultado 58=2+3+5+7+11+13+17. Para n=100, resultado 24133."
   ]
  },
  {
   "cell_type": "code",
   "execution_count": 85,
   "metadata": {},
   "outputs": [
    {
     "data": {
      "text/plain": [
       "24133"
      ]
     },
     "execution_count": 85,
     "metadata": {},
     "output_type": "execute_result"
    }
   ],
   "source": [
    "def soma_primos(n):\n",
    "    i = 1\n",
    "    soma = 0\n",
    "    numero_primos = 0\n",
    "    while numero_primos<n:\n",
    "        if primo(i):\n",
    "            soma = soma + i\n",
    "            numero_primos = numero_primos+1\n",
    "        i = i+1\n",
    "    return soma\n",
    "\n",
    "soma_primos(100)"
   ]
  },
  {
   "cell_type": "markdown",
   "metadata": {},
   "source": [
    "**18.** Faça uma função que calcula a soma:\n",
    "1/1 − 1/2 + 1/3 - 1/4 + ... + 1/9999 - 1/10000\n",
    "\n",
    "\n",
    "\n",
    "\n",
    "\n",
    "\n"
   ]
  },
  {
   "cell_type": "code",
   "execution_count": 86,
   "metadata": {},
   "outputs": [
    {
     "data": {
      "text/plain": [
       "0.6930971830599583"
      ]
     },
     "execution_count": 86,
     "metadata": {},
     "output_type": "execute_result"
    }
   ],
   "source": [
    "# Adição de termos da esquerda para a direita\n",
    "def equacaoE():\n",
    "    soma = 0\n",
    "    i = 1\n",
    "    while i <= 10000:\n",
    "        soma = soma + (1.0/i) * ((-1)**(i+1))\n",
    "        i=i+1\n",
    "    return soma\n",
    "\n",
    "equacaoE()"
   ]
  },
  {
   "cell_type": "code",
   "execution_count": 88,
   "metadata": {},
   "outputs": [
    {
     "data": {
      "text/plain": [
       "0.6930971830599453"
      ]
     },
     "execution_count": 88,
     "metadata": {},
     "output_type": "execute_result"
    }
   ],
   "source": [
    "# Adição de termos da direita para a esquerda.\n",
    "def equacaoD():\n",
    "    soma = 0\n",
    "    i = 10000\n",
    "    while i >= 1:\n",
    "        soma = soma + (1.0/i)*((-1)**(i+1))\n",
    "        i = i - 1\n",
    "    return soma\n",
    "\n",
    "equacaoD()\n"
   ]
  },
  {
   "cell_type": "code",
   "execution_count": 89,
   "metadata": {},
   "outputs": [
    {
     "data": {
      "text/plain": [
       "0.6930971830599537"
      ]
     },
     "execution_count": 89,
     "metadata": {},
     "output_type": "execute_result"
    }
   ],
   "source": [
    "# Adição separada dos termos positivos e dos termos negativos \n",
    "# da esquerda para a direita\n",
    "def equacaoPN():\n",
    "    somaPos = 0\n",
    "    i = 1\n",
    "    while i <= 10000:\n",
    "        somaPos = somaPos + 1.0/i\n",
    "        i = i+2\n",
    "        \n",
    "    somaNeg = 0\n",
    "    i = 2\n",
    "    while i <= 10000:\n",
    "        somaNeg = somaNeg + 1.0/i\n",
    "        i = i + 2\n",
    "    \n",
    "    \n",
    "    return somaPos - somaNeg\n",
    "\n",
    "equacaoPN()\n"
   ]
  },
  {
   "cell_type": "markdown",
   "metadata": {},
   "source": [
    "**19** Crie uma função que permita somar apenas os números impares da sequência de inteiros contida no intervalos [x, y], para x < y."
   ]
  },
  {
   "cell_type": "code",
   "execution_count": 92,
   "metadata": {},
   "outputs": [
    {
     "name": "stdout",
     "output_type": "stream",
     "text": [
      "X: 10\n",
      "Y: 20\n"
     ]
    },
    {
     "data": {
      "text/plain": [
       "75"
      ]
     },
     "execution_count": 92,
     "metadata": {},
     "output_type": "execute_result"
    }
   ],
   "source": [
    "def somaImpares():\n",
    "    x = int(input('X: '))\n",
    "    y = int(input('Y: '))\n",
    "    s = 0\n",
    "    if x > y:\n",
    "        for i in range(y+1, x):\n",
    "            if i % 2 != 0:\n",
    "                s = s + i\n",
    "                \n",
    "    else:\n",
    "        for i in range(x+1, y):\n",
    "            if i % 2 != 0:\n",
    "                s = s + i\n",
    "                \n",
    "    return s\n",
    "\n",
    "somaImpares()"
   ]
  },
  {
   "cell_type": "code",
   "execution_count": null,
   "metadata": {},
   "outputs": [],
   "source": []
  }
 ],
 "metadata": {
  "kernelspec": {
   "display_name": "Python 3",
   "language": "python",
   "name": "python3"
  },
  "language_info": {
   "codemirror_mode": {
    "name": "ipython",
    "version": 3
   },
   "file_extension": ".py",
   "mimetype": "text/x-python",
   "name": "python",
   "nbconvert_exporter": "python",
   "pygments_lexer": "ipython3",
   "version": "3.8.5"
  }
 },
 "nbformat": 4,
 "nbformat_minor": 4
}
