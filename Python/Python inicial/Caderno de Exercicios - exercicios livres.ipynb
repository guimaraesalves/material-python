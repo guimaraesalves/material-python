{
 "cells": [
  {
   "cell_type": "markdown",
   "metadata": {},
   "source": [
    "## Caderno de Exercı́cios\n",
    "### Processamento da Informação – Edição Python"
   ]
  },
  {
   "cell_type": "markdown",
   "metadata": {},
   "source": [
    "## 3 Laços"
   ]
  },
  {
   "cell_type": "code",
   "execution_count": 34,
   "metadata": {},
   "outputs": [
    {
     "data": {
      "text/plain": [
       "131071.0"
      ]
     },
     "execution_count": 34,
     "metadata": {},
     "output_type": "execute_result"
    }
   ],
   "source": [
    "# Simule a execução da função abaixo e indique (algebricamente) a \n",
    "# sua saı́da. # Considere valores de b diferentes de zero, e p < q.\n",
    "def funcaoEnigma1(a,b,p,q):\n",
    "    a = float(a)\n",
    "    b = float(b)\n",
    "    p = int(p)\n",
    "    q = int(q)\n",
    "    i = 0\n",
    "    soma = 0\n",
    "    if (a != 0) and (b != 0) and (p < q):\n",
    "        while i<=(q-p):\n",
    "            soma = soma + (a/b)**(i)\n",
    "            i = i+1\n",
    "        return soma\n",
    "    else:\n",
    "        return print(\"Não Pode.\")\n",
    "\n",
    "funcaoEnigma1(2,1,2,18)\n",
    "    "
   ]
  },
  {
   "cell_type": "code",
   "execution_count": 41,
   "metadata": {},
   "outputs": [
    {
     "name": "stdout",
     "output_type": "stream",
     "text": [
      "Número: 2\n"
     ]
    },
    {
     "data": {
      "text/plain": [
       "0"
      ]
     },
     "execution_count": 41,
     "metadata": {},
     "output_type": "execute_result"
    }
   ],
   "source": [
    "# Simule a execução da função abaixo e indique (algebricamente) \n",
    "# a sua saı́da. Considere valores de n > 0\n",
    "n = int(input('Número: '))\n",
    "def funcaoEnigma3(n):\n",
    "    soma = 0\n",
    "    for i in range(1, n + 1):\n",
    "        soma = soma + i\n",
    "    j = 1\n",
    "    while j <= n:\n",
    "        soma = soma - j\n",
    "        j = j + 1\n",
    "    return soma\n",
    "\n",
    "funcaoEnigma3(n)"
   ]
  },
  {
   "cell_type": "code",
   "execution_count": 45,
   "metadata": {},
   "outputs": [
    {
     "data": {
      "text/plain": [
       "1.0"
      ]
     },
     "execution_count": 45,
     "metadata": {},
     "output_type": "execute_result"
    }
   ],
   "source": [
    "# Simule a execução da função abaixo e indique (algebricamente) \n",
    "# a sua saı́da. Considere valores de n > 0;\n",
    "def funcaoEnigma4(n):\n",
    "    mult = 1.0\n",
    "    i = 0\n",
    "    while i <= n - 2:\n",
    "        mult = mult * ((i + 1.0)/(i + 2.0))\n",
    "        i = i + 1\n",
    "    return mult * n\n",
    "funcaoEnigma4(5)"
   ]
  },
  {
   "cell_type": "code",
   "execution_count": 46,
   "metadata": {},
   "outputs": [
    {
     "name": "stdout",
     "output_type": "stream",
     "text": [
      "Quantas vezes você quer imprimir? 6\n",
      "Viva Nossa Senhora da Penha!\n",
      "Viva Nossa Senhora da Penha!\n",
      "Viva Nossa Senhora da Penha!\n",
      "Viva Nossa Senhora da Penha!\n",
      "Viva Nossa Senhora da Penha!\n",
      "Viva Nossa Senhora da Penha!\n"
     ]
    }
   ],
   "source": [
    "# Crie uma função que permita imprimir a palavra SPAM, n vezes.\n",
    "# Primeira versao usando o laco for\n",
    "n = int(input('Quantas vezes você quer imprimir? '))\n",
    "def imprime1(n):\n",
    "    for i in range(1, n+1):\n",
    "        print('Viva Nossa Senhora da Penha!')\n",
    "        \n",
    "\n",
    "imprime1(n)"
   ]
  },
  {
   "cell_type": "code",
   "execution_count": 47,
   "metadata": {},
   "outputs": [
    {
     "name": "stdout",
     "output_type": "stream",
     "text": [
      "Quantas vezes você quer imprimir? 6\n",
      "Salve Rainha!\n",
      "Salve Rainha!\n",
      "Salve Rainha!\n",
      "Salve Rainha!\n",
      "Salve Rainha!\n",
      "Salve Rainha!\n"
     ]
    }
   ],
   "source": [
    "# Crie uma função que permita imprimir a palavra SPAM, n vezes.\n",
    "# Segunda versão usando o laço while\n",
    "n = int(input('Quantas vezes você quer imprimir? '))\n",
    "def imprime2(n):\n",
    "    i = 1\n",
    "    while i <= n:\n",
    "        print('Salve Rainha!')\n",
    "        i = i + 1\n",
    "        \n",
    "imprime2(n)"
   ]
  },
  {
   "cell_type": "code",
   "execution_count": null,
   "metadata": {},
   "outputs": [],
   "source": []
  },
  {
   "cell_type": "code",
   "execution_count": null,
   "metadata": {},
   "outputs": [],
   "source": []
  },
  {
   "cell_type": "code",
   "execution_count": null,
   "metadata": {},
   "outputs": [],
   "source": []
  }
 ],
 "metadata": {
  "kernelspec": {
   "display_name": "Python 3",
   "language": "python",
   "name": "python3"
  },
  "language_info": {
   "codemirror_mode": {
    "name": "ipython",
    "version": 3
   },
   "file_extension": ".py",
   "mimetype": "text/x-python",
   "name": "python",
   "nbconvert_exporter": "python",
   "pygments_lexer": "ipython3",
   "version": "3.8.5"
  }
 },
 "nbformat": 4,
 "nbformat_minor": 4
}
