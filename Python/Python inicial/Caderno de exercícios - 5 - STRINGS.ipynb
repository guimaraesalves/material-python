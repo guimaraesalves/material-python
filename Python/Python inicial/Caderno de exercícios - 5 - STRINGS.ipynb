{
 "cells": [
  {
   "cell_type": "markdown",
   "metadata": {},
   "source": [
    "# 5 Strings"
   ]
  },
  {
   "cell_type": "markdown",
   "metadata": {},
   "source": [
    "**1.** Indique a mensagem que apresentará a execução da seguinte função. \n",
    "Considere como parâmetro de entrada a string ’abracadabra’; Palíndromo;"
   ]
  },
  {
   "cell_type": "code",
   "execution_count": 8,
   "metadata": {},
   "outputs": [
    {
     "name": "stdout",
     "output_type": "stream",
     "text": [
      "arara\n",
      "arara\n"
     ]
    }
   ],
   "source": [
    "def funcao1(frase):\n",
    "    str1 = \"\"\n",
    "    str2 = \"\"\n",
    "    k = len(frase)-1\n",
    "    while k>=0:\n",
    "        str1 = str1 + frase[k]\n",
    "        str2 = frase[k] + str2\n",
    "        k = k - 1\n",
    "        \n",
    "    print (str1)\n",
    "    print (str2)\n",
    "    \n",
    "    \n",
    "funcao1('arara')"
   ]
  },
  {
   "cell_type": "markdown",
   "metadata": {},
   "source": [
    "**2.** Indique a mensagem que apresentará a execução da seguinte função. Considere como\n",
    "parâmetro de entrada a string ‘UFABC’ e ‘123’."
   ]
  },
  {
   "cell_type": "code",
   "execution_count": 11,
   "metadata": {},
   "outputs": [
    {
     "name": "stdout",
     "output_type": "stream",
     "text": [
      "MATEUSSUETAM\n",
      "NOSSA SENHORA DA PENHAAHNEP AD AROHNES ASSON\n"
     ]
    }
   ],
   "source": [
    "def funcao2(palavra):\n",
    "    str = ''\n",
    "    k = 0\n",
    "    while k < len(palavra):\n",
    "        str = str + palavra[k]\n",
    "        k = k + 1\n",
    "        \n",
    "    while k>0:\n",
    "        k = k - 1\n",
    "        str = str + palavra[k]\n",
    "        \n",
    "    print (str)\n",
    "    \n",
    "funcao2('MATEUS')\n",
    "funcao2('NOSSA SENHORA DA PENHA')"
   ]
  },
  {
   "cell_type": "markdown",
   "metadata": {},
   "source": [
    "**3.** Indique a mensagem que apresentará a execução da seguinte função. Considere como\n",
    "parâmetro de entrada a string ‘um dois tres’."
   ]
  },
  {
   "cell_type": "code",
   "execution_count": 16,
   "metadata": {},
   "outputs": [],
   "source": [
    "def funcao3(frase):\n",
    "    contador = 0\n",
    "    k = 0\n",
    "    while k < len(frase)/2:\n",
    "        if frase[k] == \" \":\n",
    "            contador = contador + 1\n",
    "    \n",
    "    print (contador)    \n",
    "    \n"
   ]
  },
  {
   "cell_type": "markdown",
   "metadata": {},
   "source": [
    "**4.** Indique a mensagem que apresentará a execução da seguinte função. Considere como\n",
    "parâmetro de entrada a string ‘54321’."
   ]
  },
  {
   "cell_type": "code",
   "execution_count": 18,
   "metadata": {},
   "outputs": [
    {
     "name": "stdout",
     "output_type": "stream",
     "text": [
      "987654321123456789\n"
     ]
    }
   ],
   "source": [
    "def funcao4 (frase):\n",
    "    nova_frase = ''\n",
    "    k = 0\n",
    "    while k < len(frase):\n",
    "        nova_frase = frase[k] + nova_frase + frase[k]\n",
    "        k = k + 1\n",
    "    print (nova_frase)\n",
    "    \n",
    "    \n",
    "funcao4 ('123456789')"
   ]
  },
  {
   "cell_type": "markdown",
   "metadata": {},
   "source": [
    "**5.** Crie uma função que permita identificar o ı́ndice de um caractere em uma string. Se\n",
    "o caractere não for encontrado, a função deve retornar -1."
   ]
  },
  {
   "cell_type": "code",
   "execution_count": 28,
   "metadata": {},
   "outputs": [
    {
     "data": {
      "text/plain": [
       "1"
      ]
     },
     "execution_count": 28,
     "metadata": {},
     "output_type": "execute_result"
    }
   ],
   "source": [
    "def find(cadeia, caractere):\n",
    "    indice = 0\n",
    "    \n",
    "    while indice < len(cadeia):\n",
    "        \n",
    "        if cadeia[indice] == caractere:\n",
    "            \n",
    "            return indice\n",
    "        \n",
    "        indice = indice + 1\n",
    "        \n",
    "    return -1\n",
    "\n",
    "find('mensagem', 'e')"
   ]
  },
  {
   "cell_type": "markdown",
   "metadata": {},
   "source": [
    "**6.** Crie uma função que permita contar o número de vezes que aparece uma letra em\n",
    "uma string."
   ]
  },
  {
   "cell_type": "code",
   "execution_count": 38,
   "metadata": {},
   "outputs": [
    {
     "data": {
      "text/plain": [
       "3"
      ]
     },
     "execution_count": 38,
     "metadata": {},
     "output_type": "execute_result"
    }
   ],
   "source": [
    "def conta_vezes(cadeia, letra):\n",
    "    contador = 0\n",
    "    \n",
    "    for i in range(0, len(cadeia)):\n",
    "        if cadeia[i] == letra:\n",
    "            contador = contador + 1      \n",
    "            \n",
    "    return contador\n",
    "\n",
    "        \n",
    "        \n",
    "\n",
    "conta_vezes('arara', 'a')"
   ]
  },
  {
   "cell_type": "markdown",
   "metadata": {},
   "source": [
    "**7-** Crie uma função que permita inverter uma palavra dada como parâmetro."
   ]
  },
  {
   "cell_type": "code",
   "execution_count": 48,
   "metadata": {},
   "outputs": [
    {
     "data": {
      "text/plain": [
       "'livres'"
      ]
     },
     "execution_count": 48,
     "metadata": {},
     "output_type": "execute_result"
    }
   ],
   "source": [
    "def invert(palavra):\n",
    "    p_invert = ''\n",
    "    i = len(palavra)-1\n",
    "    while i >= 0:\n",
    "        p_invert = p_invert + palavra[i]\n",
    "        i = i - 1\n",
    "    return p_invert\n",
    "\n",
    "invert('servil')\n",
    "    "
   ]
  },
  {
   "cell_type": "markdown",
   "metadata": {},
   "source": [
    "**8.** Crie uma função que receba duas palavras e retorne True se uma das palavras é o reverso da outra. \n",
    "Exemplo: ’pots’ é reverso de ’stop’. ’livres’ é reverso de ’servil’"
   ]
  },
  {
   "cell_type": "code",
   "execution_count": 53,
   "metadata": {},
   "outputs": [
    {
     "data": {
      "text/plain": [
       "True"
      ]
     },
     "execution_count": 53,
     "metadata": {},
     "output_type": "execute_result"
    }
   ],
   "source": [
    "def palavra_reverso(string1, string2):\n",
    "    p_invert = ''\n",
    "    i = len(string1)-1\n",
    "    while i >= 0:\n",
    "        p_invert = p_invert + string1[i]\n",
    "        i = i - 1\n",
    "    if p_invert == string2:\n",
    "        return True\n",
    "    else:\n",
    "        return False\n",
    "    \n",
    "palavra_reverso('livres', 'servil')"
   ]
  },
  {
   "cell_type": "code",
   "execution_count": 56,
   "metadata": {},
   "outputs": [
    {
     "data": {
      "text/plain": [
       "True"
      ]
     },
     "execution_count": 56,
     "metadata": {},
     "output_type": "execute_result"
    }
   ],
   "source": [
    "# Solução 1 da apostila:\n",
    "def reverso(palavra1, palavra2):\n",
    "    if len(palavra1)!= len(palavra2):\n",
    "        return False\n",
    "    i = 0\n",
    "    j = len(palavra2)-1\n",
    "    while j >= 0:\n",
    "        if palavra1[i] != palavra2[j]:\n",
    "            return False\n",
    "        \n",
    "        i = i + 1\n",
    "        j = j - 1\n",
    "        \n",
    "    return True\n",
    "\n",
    "reverso('amora', 'aroma')"
   ]
  },
  {
   "cell_type": "code",
   "execution_count": 57,
   "metadata": {},
   "outputs": [
    {
     "data": {
      "text/plain": [
       "True"
      ]
     },
     "execution_count": 57,
     "metadata": {},
     "output_type": "execute_result"
    }
   ],
   "source": [
    "# Solução 2 da apostila\n",
    "def reverso3(palavra1, palavra2):\n",
    "    if palavra1 == invert(palavra2):\n",
    "        return True\n",
    "    else:\n",
    "        return False\n",
    "    \n",
    "reverso3('amor', 'roma')"
   ]
  },
  {
   "cell_type": "code",
   "execution_count": 59,
   "metadata": {},
   "outputs": [
    {
     "data": {
      "text/plain": [
       "True"
      ]
     },
     "execution_count": 59,
     "metadata": {},
     "output_type": "execute_result"
    }
   ],
   "source": [
    "# Solução 3 da apostila\n",
    "def reverso4(palavra1, palavra2):\n",
    "    if len(palavra1) != len(palavra2):\n",
    "        return False\n",
    "    n = len(palavra1)\n",
    "    i = 0\n",
    "    while i < n:\n",
    "        if palavra1[i] != palavra2[n-1-i]:\n",
    "            return False\n",
    "        i = i + 1\n",
    "    return True\n",
    "\n",
    "reverso4('amora', 'aroma')"
   ]
  },
  {
   "cell_type": "code",
   "execution_count": null,
   "metadata": {},
   "outputs": [],
   "source": []
  }
 ],
 "metadata": {
  "kernelspec": {
   "display_name": "Python 3",
   "language": "python",
   "name": "python3"
  },
  "language_info": {
   "codemirror_mode": {
    "name": "ipython",
    "version": 3
   },
   "file_extension": ".py",
   "mimetype": "text/x-python",
   "name": "python",
   "nbconvert_exporter": "python",
   "pygments_lexer": "ipython3",
   "version": "3.8.5"
  }
 },
 "nbformat": 4,
 "nbformat_minor": 4
}
