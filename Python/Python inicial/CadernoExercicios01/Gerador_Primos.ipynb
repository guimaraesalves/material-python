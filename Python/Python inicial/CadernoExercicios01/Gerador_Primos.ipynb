{
 "cells": [
  {
   "cell_type": "markdown",
   "metadata": {},
   "source": [
    "### 1. Implementar um gerador de números primos"
   ]
  },
  {
   "cell_type": "code",
   "execution_count": 3,
   "metadata": {},
   "outputs": [
    {
     "ename": "AttributeError",
     "evalue": "'generator' object has no attribute 'next'",
     "output_type": "error",
     "traceback": [
      "\u001b[0;31m---------------------------------------------------------------------------\u001b[0m",
      "\u001b[0;31mAttributeError\u001b[0m                            Traceback (most recent call last)",
      "\u001b[0;32m<ipython-input-3-fa9e5abdd159>\u001b[0m in \u001b[0;36m<module>\u001b[0;34m\u001b[0m\n\u001b[1;32m     23\u001b[0m \u001b[0;34m\u001b[0m\u001b[0m\n\u001b[1;32m     24\u001b[0m \u001b[0;32mfor\u001b[0m \u001b[0mi\u001b[0m \u001b[0;32min\u001b[0m \u001b[0mrange\u001b[0m\u001b[0;34m(\u001b[0m\u001b[0;36m100\u001b[0m\u001b[0;34m)\u001b[0m\u001b[0;34m:\u001b[0m\u001b[0;34m\u001b[0m\u001b[0;34m\u001b[0m\u001b[0m\n\u001b[0;32m---> 25\u001b[0;31m     \u001b[0mprint\u001b[0m \u001b[0;34m(\u001b[0m\u001b[0mprime_iter\u001b[0m\u001b[0;34m.\u001b[0m\u001b[0mnext\u001b[0m\u001b[0;34m(\u001b[0m\u001b[0;34m)\u001b[0m\u001b[0;34m)\u001b[0m\u001b[0;34m\u001b[0m\u001b[0;34m\u001b[0m\u001b[0m\n\u001b[0m",
      "\u001b[0;31mAttributeError\u001b[0m: 'generator' object has no attribute 'next'"
     ]
    }
   ],
   "source": [
    "# verifica se o número é primo\n",
    "def is_prime(n):\n",
    "    \n",
    "    if n<2:\n",
    "        return False\n",
    "    \n",
    "    for i in xrange(2, n):\n",
    "        if not n % i:\n",
    "            return False\n",
    "        else:\n",
    "            return True\n",
    "        \n",
    "# Gerador de números primos\n",
    "def prime_gen():\n",
    "    i = 1\n",
    "    \n",
    "    while True:\n",
    "        if is_prime(i): yield i\n",
    "        i += 1\n",
    "            \n",
    "# Teste: 100 primeiros primos\n",
    "prime_iter = prime_gen()\n",
    "\n",
    "for i in range(100):\n",
    "    print prime_iter.next()"
   ]
  },
  {
   "cell_type": "code",
   "execution_count": 7,
   "metadata": {},
   "outputs": [
    {
     "ename": "SyntaxError",
     "evalue": "Missing parentheses in call to 'print'. Did you mean print(prime_iter)? (<ipython-input-7-ec301372cbad>, line 34)",
     "output_type": "error",
     "traceback": [
      "\u001b[0;36m  File \u001b[0;32m\"<ipython-input-7-ec301372cbad>\"\u001b[0;36m, line \u001b[0;32m34\u001b[0m\n\u001b[0;31m    print prime_iter\u001b[0m\n\u001b[0m          ^\u001b[0m\n\u001b[0;31mSyntaxError\u001b[0m\u001b[0;31m:\u001b[0m Missing parentheses in call to 'print'. Did you mean print(prime_iter)?\n"
     ]
    }
   ],
   "source": [
    "# -*- coding: latin1 -*-\n",
    "# Verifica se o número é primo\n",
    "def is_prime(n):\n",
    "\n",
    "    if n < 2:\n",
    "\n",
    "        return False\n",
    "\n",
    "    for i in xrange(2, n):\n",
    "\n",
    "        if not n % i:\n",
    "\n",
    "            return False\n",
    "\n",
    "        else:\n",
    "\n",
    "            return True\n",
    "\n",
    "# Gerador de números primos\n",
    "def prime_gen():\n",
    "\n",
    "    i = 1\n",
    "\n",
    "    while True:\n",
    "\n",
    "        if is_prime(i): yield i\n",
    "\n",
    "        i += 1\n",
    "\n",
    "# Teste: 100 primeiros primos\n",
    "prime_iter = prime_gen()\n",
    "\n",
    "for i in range(0,100):\n",
    "    print prime_iter\n",
    "    "
   ]
  },
  {
   "cell_type": "code",
   "execution_count": null,
   "metadata": {},
   "outputs": [],
   "source": []
  }
 ],
 "metadata": {
  "kernelspec": {
   "display_name": "Python 3",
   "language": "python",
   "name": "python3"
  },
  "language_info": {
   "codemirror_mode": {
    "name": "ipython",
    "version": 3
   },
   "file_extension": ".py",
   "mimetype": "text/x-python",
   "name": "python",
   "nbconvert_exporter": "python",
   "pygments_lexer": "ipython3",
   "version": "3.8.5"
  }
 },
 "nbformat": 4,
 "nbformat_minor": 4
}
