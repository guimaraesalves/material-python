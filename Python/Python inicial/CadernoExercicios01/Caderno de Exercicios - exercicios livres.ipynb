{
 "cells": [
  {
   "cell_type": "markdown",
   "metadata": {},
   "source": [
    "## Caderno de Exercı́cios\n",
    "### Processamento da Informação – Edição Python"
   ]
  },
  {
   "cell_type": "markdown",
   "metadata": {},
   "source": [
    "## 3 Laços"
   ]
  },
  {
   "cell_type": "code",
   "execution_count": 34,
   "metadata": {},
   "outputs": [
    {
     "data": {
      "text/plain": [
       "131071.0"
      ]
     },
     "execution_count": 34,
     "metadata": {},
     "output_type": "execute_result"
    }
   ],
   "source": [
    "# Simule a execução da função abaixo e indique (algebricamente) a \n",
    "# sua saı́da. # Considere valores de b diferentes de zero, e p < q.\n",
    "def funcaoEnigma1(a,b,p,q):\n",
    "    a = float(a)\n",
    "    b = float(b)\n",
    "    p = int(p)\n",
    "    q = int(q)\n",
    "    i = 0\n",
    "    soma = 0\n",
    "    if (a != 0) and (b != 0) and (p < q):\n",
    "        while i<=(q-p):\n",
    "            soma = soma + (a/b)**(i)\n",
    "            i = i+1\n",
    "        return soma\n",
    "    else:\n",
    "        return print(\"Não Pode.\")\n",
    "\n",
    "funcaoEnigma1(2,1,2,18)\n",
    "    "
   ]
  },
  {
   "cell_type": "code",
   "execution_count": 41,
   "metadata": {},
   "outputs": [
    {
     "name": "stdout",
     "output_type": "stream",
     "text": [
      "Número: 2\n"
     ]
    },
    {
     "data": {
      "text/plain": [
       "0"
      ]
     },
     "execution_count": 41,
     "metadata": {},
     "output_type": "execute_result"
    }
   ],
   "source": [
    "# Simule a execução da função abaixo e indique (algebricamente) \n",
    "# a sua saı́da. Considere valores de n > 0\n",
    "n = int(input('Número: '))\n",
    "def funcaoEnigma3(n):\n",
    "    soma = 0\n",
    "    for i in range(1, n + 1):\n",
    "        soma = soma + i\n",
    "    j = 1\n",
    "    while j <= n:\n",
    "        soma = soma - j\n",
    "        j = j + 1\n",
    "    return soma\n",
    "\n",
    "funcaoEnigma3(n)"
   ]
  },
  {
   "cell_type": "code",
   "execution_count": 45,
   "metadata": {},
   "outputs": [
    {
     "data": {
      "text/plain": [
       "1.0"
      ]
     },
     "execution_count": 45,
     "metadata": {},
     "output_type": "execute_result"
    }
   ],
   "source": [
    "# Simule a execução da função abaixo e indique (algebricamente) \n",
    "# a sua saı́da. Considere valores de n > 0;\n",
    "def funcaoEnigma4(n):\n",
    "    mult = 1.0\n",
    "    i = 0\n",
    "    while i <= n - 2:\n",
    "        mult = mult * ((i + 1.0)/(i + 2.0))\n",
    "        i = i + 1\n",
    "    return mult * n\n",
    "funcaoEnigma4(5)"
   ]
  },
  {
   "cell_type": "code",
   "execution_count": 46,
   "metadata": {},
   "outputs": [
    {
     "name": "stdout",
     "output_type": "stream",
     "text": [
      "Quantas vezes você quer imprimir? 6\n",
      "Viva Nossa Senhora da Penha!\n",
      "Viva Nossa Senhora da Penha!\n",
      "Viva Nossa Senhora da Penha!\n",
      "Viva Nossa Senhora da Penha!\n",
      "Viva Nossa Senhora da Penha!\n",
      "Viva Nossa Senhora da Penha!\n"
     ]
    }
   ],
   "source": [
    "# Crie uma função que permita imprimir a palavra SPAM, n vezes.\n",
    "# Primeira versao usando o laco for\n",
    "n = int(input('Quantas vezes você quer imprimir? '))\n",
    "def imprime1(n):\n",
    "    for i in range(1, n+1):\n",
    "        print('Viva Nossa Senhora da Penha!')\n",
    "        \n",
    "\n",
    "imprime1(n)"
   ]
  },
  {
   "cell_type": "code",
   "execution_count": 47,
   "metadata": {},
   "outputs": [
    {
     "name": "stdout",
     "output_type": "stream",
     "text": [
      "Quantas vezes você quer imprimir? 6\n",
      "Salve Rainha!\n",
      "Salve Rainha!\n",
      "Salve Rainha!\n",
      "Salve Rainha!\n",
      "Salve Rainha!\n",
      "Salve Rainha!\n"
     ]
    }
   ],
   "source": [
    "# Crie uma função que permita imprimir a palavra SPAM, n vezes.\n",
    "# Segunda versão usando o laço while\n",
    "n = int(input('Quantas vezes você quer imprimir? '))\n",
    "def imprime2(n):\n",
    "    i = 1\n",
    "    while i <= n:\n",
    "        print('Salve Rainha!')\n",
    "        i = i + 1\n",
    "        \n",
    "imprime2(n)"
   ]
  },
  {
   "cell_type": "code",
   "execution_count": 50,
   "metadata": {},
   "outputs": [
    {
     "name": "stdout",
     "output_type": "stream",
     "text": [
      "Digite o número: 5\n",
      "1\n",
      "2\n",
      "3\n",
      "4\n",
      "5\n"
     ]
    }
   ],
   "source": [
    "# Crie uma função que permita imprimir os primeiros n números naturais.\n",
    "# Primeira versao usando o laço for\n",
    "n = int(input('Digite o número: '))\n",
    "def imprimen1(n):\n",
    "    for i in range(1, n+1):\n",
    "        print(i)\n",
    "imprimen1(n)\n"
   ]
  },
  {
   "cell_type": "code",
   "execution_count": 51,
   "metadata": {},
   "outputs": [
    {
     "name": "stdout",
     "output_type": "stream",
     "text": [
      "Digite o numero: 8\n",
      "1\n",
      "2\n",
      "3\n",
      "4\n",
      "5\n",
      "6\n",
      "7\n",
      "8\n"
     ]
    }
   ],
   "source": [
    "# Crie uma função que permita imprimir os primeiros n números naturais.\n",
    "# Segunda versao usando o laço while\n",
    "n = int(input('Digite o numero: '))\n",
    "def imprimen2(n):\n",
    "    i = 1\n",
    "    while i <= n:\n",
    "        print(i)\n",
    "        i = i + 1\n",
    "        \n",
    "imprimen2(n)"
   ]
  },
  {
   "cell_type": "code",
   "execution_count": 53,
   "metadata": {},
   "outputs": [
    {
     "name": "stdout",
     "output_type": "stream",
     "text": [
      "Digite um número: 21\n",
      "1\n",
      "3\n",
      "5\n",
      "7\n",
      "9\n",
      "11\n",
      "13\n",
      "15\n",
      "17\n",
      "19\n",
      "21\n"
     ]
    }
   ],
   "source": [
    "# Crie uma função que permita mostrar uma sequência \n",
    "# de números ı́mpares de 1 até n.\n",
    "# 1º versao laço for\n",
    "n = int(input(\"Digite um número: \"))\n",
    "def imprimeImpar1(n):\n",
    "    for i in range(1, n+1):\n",
    "        if i%2 == 1:\n",
    "            print(i)\n",
    "            \n",
    "imprimeImpar1(n)"
   ]
  },
  {
   "cell_type": "code",
   "execution_count": 56,
   "metadata": {},
   "outputs": [
    {
     "name": "stdout",
     "output_type": "stream",
     "text": [
      "Digite um numero: 21\n",
      "1\n",
      "3\n",
      "5\n",
      "7\n",
      "9\n",
      "11\n",
      "13\n",
      "15\n",
      "17\n",
      "19\n",
      "21\n"
     ]
    }
   ],
   "source": [
    "# Crie uma função que permita mostrar uma sequência \n",
    "# de números ı́mpares de 1 até n.\n",
    "# 2º versao laço while\n",
    "n = int(input('Digite um numero: '))\n",
    "def imprimeImpar2(n):\n",
    "    i = 1\n",
    "    while i <= n:\n",
    "        if i % 2 == 1:\n",
    "            print(i)\n",
    "        i = i + 1\n",
    "    \n",
    "imprimeImpar2(n)"
   ]
  },
  {
   "cell_type": "code",
   "execution_count": 5,
   "metadata": {},
   "outputs": [
    {
     "name": "stdout",
     "output_type": "stream",
     "text": [
      "digite x: 20\n",
      "digite y: 10\n",
      "10\n",
      "11\n",
      "12\n",
      "13\n",
      "14\n",
      "15\n",
      "16\n",
      "17\n",
      "18\n",
      "19\n",
      "20\n"
     ]
    }
   ],
   "source": [
    "# Crie uma função que permita mostrar a sequência de números inteiros, \n",
    "# no intervalo [x, y]. Considere x < y.\n",
    "x = int(input('digite x: '))\n",
    "y = int(input ('digite y: '))\n",
    "if x > y:\n",
    "    ini = y\n",
    "    fim = x\n",
    "else:\n",
    "    ini = x\n",
    "    fim = y\n",
    "    \n",
    "def seqInterv1(n):\n",
    "    for i in range(ini, fim + 1):\n",
    "        print(i)\n",
    "        \n",
    "seqInterv1(n)"
   ]
  },
  {
   "cell_type": "code",
   "execution_count": 14,
   "metadata": {},
   "outputs": [
    {
     "name": "stdout",
     "output_type": "stream",
     "text": [
      "digite x: 10\n",
      "digite y: 0\n",
      "1\n",
      "2\n",
      "3\n",
      "4\n",
      "5\n",
      "6\n",
      "7\n",
      "8\n",
      "9\n",
      "-------\n",
      "45\n"
     ]
    }
   ],
   "source": [
    "# 9 Crie uma função que permita somar a sequência de números inteiros,\n",
    "# no intervalo [x, y]. Considere x < y:\n",
    "\n",
    "    \n",
    "def sumSeq1(ini, fim):\n",
    "    x = int(input('digite x: '))\n",
    "    y = int(input('digite y: '))\n",
    "    s = 0\n",
    "    if x > y:\n",
    "        ini = y\n",
    "        fim = x\n",
    "    else:\n",
    "        ini = x\n",
    "        fim = y\n",
    "    for i in range(ini+1, fim):\n",
    "        s = s + i\n",
    "        print (i)\n",
    "    print ('-------')\n",
    "    print (s)\n",
    "        \n",
    "        \n",
    "sumSeq1(x, y)\n"
   ]
  },
  {
   "cell_type": "code",
   "execution_count": 22,
   "metadata": {},
   "outputs": [
    {
     "name": "stdout",
     "output_type": "stream",
     "text": [
      "Digite um número: 6\n"
     ]
    },
    {
     "data": {
      "text/plain": [
       "3"
      ]
     },
     "execution_count": 22,
     "metadata": {},
     "output_type": "execute_result"
    }
   ],
   "source": [
    "# 10 - Crie uma função que permita o calculo da seguinte somatória:\n",
    "# −1 + 2 − 3 + 4 − 5 + 6 + · · · + n\n",
    "def calcsomatoria1(n):\n",
    "    n = int(input('Digite um número: '))\n",
    "    s = 0\n",
    "    for i in range(1, n + 1):\n",
    "        if i % 2 == 0:\n",
    "            s = s + i\n",
    "        else:\n",
    "            s = s -i\n",
    "    return s\n",
    "\n",
    "calcsomatoria1(n)"
   ]
  },
  {
   "cell_type": "code",
   "execution_count": 21,
   "metadata": {},
   "outputs": [
    {
     "data": {
      "text/plain": [
       "3"
      ]
     },
     "execution_count": 21,
     "metadata": {},
     "output_type": "execute_result"
    }
   ],
   "source": [
    "# 10 - Resolução da apostila\n",
    "def somaQ(n):\n",
    "    soma = 0\n",
    "    for i in range(1,n+1):\n",
    "        soma = soma + i*( (-1)**i)\n",
    "    return soma\n",
    "\n",
    "somaQ(6)"
   ]
  },
  {
   "cell_type": "code",
   "execution_count": 24,
   "metadata": {},
   "outputs": [
    {
     "name": "stdout",
     "output_type": "stream",
     "text": [
      "Digite um Nº: 2\n"
     ]
    },
    {
     "data": {
      "text/plain": [
       "5"
      ]
     },
     "execution_count": 24,
     "metadata": {},
     "output_type": "execute_result"
    }
   ],
   "source": [
    "# 11. Crie uma função somaP, em que dado um inteiro n > 0, \n",
    "# permita somar a seguinte sequência: 1** 2 + 2** 2 + · · · + n ** 2\n",
    "def somaFat(n):\n",
    "    n = int(input('Digite um Nº: '))\n",
    "    s = 0\n",
    "    for i in range(1, n+1):\n",
    "        s = (i**2) + s\n",
    "    return s\n",
    "\n",
    "somaFat(n)"
   ]
  },
  {
   "cell_type": "code",
   "execution_count": 34,
   "metadata": {},
   "outputs": [
    {
     "name": "stdout",
     "output_type": "stream",
     "text": [
      "Digite um numero para o expoente máximo: 2\n"
     ]
    },
    {
     "data": {
      "text/plain": [
       "5"
      ]
     },
     "execution_count": 34,
     "metadata": {},
     "output_type": "execute_result"
    }
   ],
   "source": [
    "# 13. Modifique a função somaP em que, além do número n, \n",
    "# seja utilizado um outro número k, de tal forma que o \n",
    "# calculo da seguinte somatória seja realizada: \n",
    "# k ** 1 + k ** 2 + · · · + k ** n\n",
    "\n",
    "def somaP(n):\n",
    "    n = int(input('Digite um numero para o expoente máximo: '))\n",
    "    s = 0\n",
    "    for i in range(1, n + 1):\n",
    "        s = (s + (i ** i))\n",
    "            \n",
    "    return s\n",
    "\n",
    "somaP(n)\n",
    "            "
   ]
  },
  {
   "cell_type": "code",
   "execution_count": 37,
   "metadata": {},
   "outputs": [
    {
     "name": "stdout",
     "output_type": "stream",
     "text": [
      "Nº: 6\n"
     ]
    },
    {
     "data": {
      "text/plain": [
       "720"
      ]
     },
     "execution_count": 37,
     "metadata": {},
     "output_type": "execute_result"
    }
   ],
   "source": [
    "# Crie uma função em que, dado um inteiro não-negativo n, \n",
    "# seja possı́vel determinar n!.\n",
    "# Primeira versao usando o laco for\n",
    "\n",
    "def fat1(n):\n",
    "    n = int(input(\"Nº: \"))\n",
    "    f = 1\n",
    "    for i in range (1, n):\n",
    "        f = f * i + f\n",
    "        \n",
    "    return f\n",
    "\n",
    "fat1(n)\n",
    "        "
   ]
  },
  {
   "cell_type": "markdown",
   "metadata": {},
   "source": [
    "**15** - Dizemos que um número natural é triangular se ele é produto de três número naturais\n",
    "consecutivos. Por exemplo: 120 é triangular, pois 4x5x6 = 120. 2730 é triangular,\n",
    "pois 13x14x15 = 2730. Dado um inteiro não-negativo n, crie uma função para\n",
    "verificar se n é triangular. Deve-se devolver True se o número for triangular, caso\n",
    "contrário False."
   ]
  },
  {
   "cell_type": "code",
   "execution_count": 41,
   "metadata": {},
   "outputs": [
    {
     "name": "stdout",
     "output_type": "stream",
     "text": [
      "Nº: 55\n",
      "Não é Triangular.\n"
     ]
    }
   ],
   "source": [
    "# Primeira versão laço for\n",
    "def numTriangular(n):\n",
    "    n = int(input(\"Nº: \"))\n",
    "    for i in range(3, n+1):\n",
    "        if (i - 2)*(i - 1)*(i) == n:\n",
    "            return print('É triangular.')\n",
    "    return print('Não é Triangular.')\n",
    "\n",
    "numTriangular(n)"
   ]
  },
  {
   "cell_type": "code",
   "execution_count": 43,
   "metadata": {},
   "outputs": [
    {
     "name": "stdout",
     "output_type": "stream",
     "text": [
      "Nº: 120\n"
     ]
    },
    {
     "data": {
      "text/plain": [
       "True"
      ]
     },
     "execution_count": 43,
     "metadata": {},
     "output_type": "execute_result"
    }
   ],
   "source": [
    "# Segunda versão laço while\n",
    "def numTriangular2(n):\n",
    "    n = int(input(\"Nº: \"))\n",
    "    i = 3\n",
    "    while i < n:\n",
    "        if (i - 2)*(i - 1)*(i) == n:\n",
    "            return True\n",
    "        i = i + 1\n",
    "    return False\n",
    "\n",
    "numTriangular2(n)\n",
    "\n",
    "    "
   ]
  },
  {
   "cell_type": "markdown",
   "metadata": {},
   "source": [
    "#### 16. Dado um inteiro positivo p, crie uma função para verificar se p é primo."
   ]
  },
  {
   "cell_type": "code",
   "execution_count": 82,
   "metadata": {},
   "outputs": [
    {
     "data": {
      "text/plain": [
       "True"
      ]
     },
     "execution_count": 82,
     "metadata": {},
     "output_type": "execute_result"
    }
   ],
   "source": [
    "def primo(p):\n",
    "    contador = 0\n",
    "    for i in range(1,p+1):\n",
    "        if p%i==0:\n",
    "            contador = contador+1\n",
    "    if contador==2:\n",
    "        return True\n",
    "    else:\n",
    "        return False\n",
    "   \n",
    "        \n",
    "\n",
    "primo(3)"
   ]
  },
  {
   "cell_type": "markdown",
   "metadata": {},
   "source": [
    "**17**. Escreva uma função que receba um inteiro não-negativo n e imprima a soma dos\n",
    "n primeiros números primos. Por exemplo: Para n=3, resultado 10=2+3+5. Para\n",
    "n=7, resultado 58=2+3+5+7+11+13+17. Para n=100, resultado 24133."
   ]
  },
  {
   "cell_type": "code",
   "execution_count": 85,
   "metadata": {},
   "outputs": [
    {
     "data": {
      "text/plain": [
       "24133"
      ]
     },
     "execution_count": 85,
     "metadata": {},
     "output_type": "execute_result"
    }
   ],
   "source": [
    "def soma_primos(n):\n",
    "    i = 1\n",
    "    soma = 0\n",
    "    numero_primos = 0\n",
    "    while numero_primos<n:\n",
    "        if primo(i):\n",
    "            soma = soma + i\n",
    "            numero_primos = numero_primos+1\n",
    "        i = i+1\n",
    "    return soma\n",
    "\n",
    "soma_primos(100)"
   ]
  },
  {
   "cell_type": "markdown",
   "metadata": {},
   "source": [
    "**18.** Faça uma função que calcula a soma:\n",
    "1/1 − 1/2 + 1/3 - 1/4 + ... + 1/9999 - 1/10000\n",
    "\n",
    "\n",
    "\n",
    "\n",
    "\n",
    "\n"
   ]
  },
  {
   "cell_type": "code",
   "execution_count": 86,
   "metadata": {},
   "outputs": [
    {
     "data": {
      "text/plain": [
       "0.6930971830599583"
      ]
     },
     "execution_count": 86,
     "metadata": {},
     "output_type": "execute_result"
    }
   ],
   "source": [
    "# Adição de termos da esquerda para a direita\n",
    "def equacaoE():\n",
    "    soma = 0\n",
    "    i = 1\n",
    "    while i <= 10000:\n",
    "        soma = soma + (1.0/i) * ((-1)**(i+1))\n",
    "        i=i+1\n",
    "    return soma\n",
    "\n",
    "equacaoE()"
   ]
  },
  {
   "cell_type": "code",
   "execution_count": 88,
   "metadata": {},
   "outputs": [
    {
     "data": {
      "text/plain": [
       "0.6930971830599453"
      ]
     },
     "execution_count": 88,
     "metadata": {},
     "output_type": "execute_result"
    }
   ],
   "source": [
    "# Adição de termos da direita para a esquerda.\n",
    "def equacaoD():\n",
    "    soma = 0\n",
    "    i = 10000\n",
    "    while i >= 1:\n",
    "        soma = soma + (1.0/i)*((-1)**(i+1))\n",
    "        i = i - 1\n",
    "    return soma\n",
    "\n",
    "equacaoD()\n"
   ]
  },
  {
   "cell_type": "code",
   "execution_count": 89,
   "metadata": {},
   "outputs": [
    {
     "data": {
      "text/plain": [
       "0.6930971830599537"
      ]
     },
     "execution_count": 89,
     "metadata": {},
     "output_type": "execute_result"
    }
   ],
   "source": [
    "# Adição separada dos termos positivos e dos termos negativos \n",
    "# da esquerda para a direita\n",
    "def equacaoPN():\n",
    "    somaPos = 0\n",
    "    i = 1\n",
    "    while i <= 10000:\n",
    "        somaPos = somaPos + 1.0/i\n",
    "        i = i+2\n",
    "        \n",
    "    somaNeg = 0\n",
    "    i = 2\n",
    "    while i <= 10000:\n",
    "        somaNeg = somaNeg + 1.0/i\n",
    "        i = i + 2\n",
    "    \n",
    "    \n",
    "    return somaPos - somaNeg\n",
    "\n",
    "equacaoPN()\n"
   ]
  },
  {
   "cell_type": "markdown",
   "metadata": {},
   "source": [
    "**19** Crie uma função que permita somar apenas os números impares da sequência de inteiros contida no intervalos [x, y], para x < y."
   ]
  },
  {
   "cell_type": "code",
   "execution_count": 92,
   "metadata": {},
   "outputs": [
    {
     "name": "stdout",
     "output_type": "stream",
     "text": [
      "X: 10\n",
      "Y: 20\n"
     ]
    },
    {
     "data": {
      "text/plain": [
       "75"
      ]
     },
     "execution_count": 92,
     "metadata": {},
     "output_type": "execute_result"
    }
   ],
   "source": [
    "def somaImpares():\n",
    "    x = int(input('X: '))\n",
    "    y = int(input('Y: '))\n",
    "    s = 0\n",
    "    if x > y:\n",
    "        for i in range(y+1, x):\n",
    "            if i % 2 != 0:\n",
    "                s = s + i\n",
    "                \n",
    "    else:\n",
    "        for i in range(x+1, y):\n",
    "            if i % 2 != 0:\n",
    "                s = s + i\n",
    "                \n",
    "    return s\n",
    "\n",
    "somaImpares()"
   ]
  },
  {
   "cell_type": "markdown",
   "metadata": {},
   "source": [
    "**20** -  Dado um inteiro positivo n, crie uma função para calcular a seguinte soma:\n",
    "1/n + 2/n-1 + 3/n-2 + 2/n-1 + n/1"
   ]
  },
  {
   "cell_type": "code",
   "execution_count": 6,
   "metadata": {},
   "outputs": [
    {
     "data": {
      "text/plain": [
       "4.333333333333333"
      ]
     },
     "execution_count": 6,
     "metadata": {},
     "output_type": "execute_result"
    }
   ],
   "source": [
    "def soma1(n):\n",
    "    soma = 0\n",
    "    \n",
    "    for i in range(1, n + 1):\n",
    "        soma = soma + float (i)/(n-(i-1))\n",
    "        \n",
    "        \n",
    "    return soma\n",
    "\n",
    "soma1(3)"
   ]
  },
  {
   "cell_type": "markdown",
   "metadata": {},
   "source": [
    "**21.** Crie uma função arctan que recebe o número real x ∈ [0, 1] e devolve uma apro-\n",
    "ximação do arco tangente de x (em radianos) através da série:\n",
    "arctan(x) = x - x³/3 + (x ** 5)/5 - (x ** 7)/7 + ...\n",
    "\n",
    "considere somente os 100 primeiros termos da série:"
   ]
  },
  {
   "cell_type": "code",
   "execution_count": 12,
   "metadata": {},
   "outputs": [
    {
     "data": {
      "text/plain": [
       "-5.512670650932241e+231"
      ]
     },
     "execution_count": 12,
     "metadata": {},
     "output_type": "execute_result"
    }
   ],
   "source": [
    "def arctan(x):\n",
    "    x = float(x)\n",
    "    soma = 0\n",
    "    sinal = -1\n",
    "    for i in range(1, 100 +1):\n",
    "        coef = 2 * i - 1\n",
    "        sinal = sinal *-1\n",
    "        soma = soma + sinal * (x ** coef)/coef\n",
    "    return soma\n",
    "\n",
    "arctan(15)"
   ]
  },
  {
   "cell_type": "markdown",
   "metadata": {},
   "source": [
    "**23.** Escreva uma função encaixa que, recebendo dois números inteiros a e b como\n",
    "parâmetros, verifica se b corresponde a os últimos dı́gitos de a. Por exemplo 45\n",
    "encaixa em 12345, 2026 encaixa em 2026, 12345 não encaixa em 45."
   ]
  },
  {
   "cell_type": "code",
   "execution_count": 41,
   "metadata": {},
   "outputs": [
    {
     "data": {
      "text/plain": [
       "'não encaixa'"
      ]
     },
     "execution_count": 41,
     "metadata": {},
     "output_type": "execute_result"
    }
   ],
   "source": [
    "def encaixa(a,b):\n",
    "    while True:\n",
    "        if a % 10 == b % 10:\n",
    "            a = a/10\n",
    "            b = b/10\n",
    "            if b == 0 or a == 0:\n",
    "                return 'encaixa'\n",
    "        else:\n",
    "            return 'não encaixa'\n",
    "        \n",
    "encaixa(10045, 45)"
   ]
  },
  {
   "cell_type": "markdown",
   "metadata": {},
   "source": [
    "**24.** Problema 3n+1 (Conjectura Collatz): As vezes nem sempre é fácil determinar se o\n",
    "laço irá terminar. Um exemplo:\n",
    "\n"
   ]
  },
  {
   "cell_type": "code",
   "execution_count": 62,
   "metadata": {},
   "outputs": [
    {
     "name": "stdout",
     "output_type": "stream",
     "text": [
      "1 - 27\n",
      "2 - 82\n",
      "3 - 41.0\n",
      "4 - 124.0\n",
      "5 - 62.0\n",
      "6 - 31.0\n",
      "7 - 94.0\n",
      "8 - 47.0\n",
      "9 - 142.0\n",
      "10 - 71.0\n",
      "11 - 214.0\n",
      "12 - 107.0\n",
      "13 - 322.0\n",
      "14 - 161.0\n",
      "15 - 484.0\n",
      "16 - 242.0\n",
      "17 - 121.0\n",
      "18 - 364.0\n",
      "19 - 182.0\n",
      "20 - 91.0\n",
      "21 - 274.0\n",
      "22 - 137.0\n",
      "23 - 412.0\n",
      "24 - 206.0\n",
      "25 - 103.0\n",
      "26 - 310.0\n",
      "27 - 155.0\n",
      "28 - 466.0\n",
      "29 - 233.0\n",
      "30 - 700.0\n",
      "31 - 350.0\n",
      "32 - 175.0\n",
      "33 - 526.0\n",
      "34 - 263.0\n",
      "35 - 790.0\n",
      "36 - 395.0\n",
      "37 - 1186.0\n",
      "38 - 593.0\n",
      "39 - 1780.0\n",
      "40 - 890.0\n",
      "41 - 445.0\n",
      "42 - 1336.0\n",
      "43 - 668.0\n",
      "44 - 334.0\n",
      "45 - 167.0\n",
      "46 - 502.0\n",
      "47 - 251.0\n",
      "48 - 754.0\n",
      "49 - 377.0\n",
      "50 - 1132.0\n",
      "51 - 566.0\n",
      "52 - 283.0\n",
      "53 - 850.0\n",
      "54 - 425.0\n",
      "55 - 1276.0\n",
      "56 - 638.0\n",
      "57 - 319.0\n",
      "58 - 958.0\n",
      "59 - 479.0\n",
      "60 - 1438.0\n",
      "61 - 719.0\n",
      "62 - 2158.0\n",
      "63 - 1079.0\n",
      "64 - 3238.0\n",
      "65 - 1619.0\n",
      "66 - 4858.0\n",
      "67 - 2429.0\n",
      "68 - 7288.0\n",
      "69 - 3644.0\n",
      "70 - 1822.0\n",
      "71 - 911.0\n",
      "72 - 2734.0\n",
      "73 - 1367.0\n",
      "74 - 4102.0\n",
      "75 - 2051.0\n",
      "76 - 6154.0\n",
      "77 - 3077.0\n",
      "78 - 9232.0\n",
      "79 - 4616.0\n",
      "80 - 2308.0\n",
      "81 - 1154.0\n",
      "82 - 577.0\n",
      "83 - 1732.0\n",
      "84 - 866.0\n",
      "85 - 433.0\n",
      "86 - 1300.0\n",
      "87 - 650.0\n",
      "88 - 325.0\n",
      "89 - 976.0\n",
      "90 - 488.0\n",
      "91 - 244.0\n",
      "92 - 122.0\n",
      "93 - 61.0\n",
      "94 - 184.0\n",
      "95 - 92.0\n",
      "96 - 46.0\n",
      "97 - 23.0\n",
      "98 - 70.0\n",
      "99 - 35.0\n",
      "100 - 106.0\n",
      "101 - 53.0\n",
      "102 - 160.0\n",
      "103 - 80.0\n",
      "104 - 40.0\n",
      "105 - 20.0\n",
      "106 - 10.0\n",
      "107 - 5.0\n",
      "108 - 16.0\n",
      "109 - 8.0\n",
      "110 - 4.0\n",
      "111 - 2.0\n",
      "Finalizou\n",
      "O laço foi executado 111 vezes\n",
      "O maior número obtido foi 9232.0\n"
     ]
    }
   ],
   "source": [
    "def sequencia3n1(n):\n",
    "    i = 0\n",
    "    maior = 0\n",
    "    while n != 1:\n",
    "        \n",
    "        i = i + 1\n",
    "        print (i, '-',n)\n",
    "        if n%2 == 0:\n",
    "            n = n/2\n",
    "        else:\n",
    "            n = n*3+1\n",
    "        if n > maior:\n",
    "            maior = n\n",
    "        \n",
    "    print ('Finalizou')\n",
    "    print (f'O laço foi executado {i} vezes')\n",
    "    print (f'O maior número obtido foi {maior}')\n",
    "    \n",
    "sequencia3n1(27)\n"
   ]
  },
  {
   "cell_type": "markdown",
   "metadata": {},
   "source": [
    "**25.** Crie uma função que permita imprimir os n primeiros números da sequência de\n",
    "Fibonacci. Considere n ≥ 2 e apenas um laço ‘while’."
   ]
  },
  {
   "cell_type": "code",
   "execution_count": 63,
   "metadata": {},
   "outputs": [
    {
     "name": "stdout",
     "output_type": "stream",
     "text": [
      "0\n",
      "1\n",
      "1\n",
      "2\n",
      "3\n",
      "5\n",
      "8\n",
      "13\n",
      "21\n",
      "34\n",
      "55\n"
     ]
    }
   ],
   "source": [
    "def fibonacci(n):\n",
    "    k = 2\n",
    "    t1 = 0\n",
    "    t2 = 1\n",
    "    print(t1)\n",
    "    print(t2)\n",
    "    while k <= n:\n",
    "        seguinte = t1 + t2\n",
    "        print (seguinte)\n",
    "        t1 = t2\n",
    "        t2 = seguinte\n",
    "        k = k + 1\n",
    "        \n",
    "fibonacci(10)"
   ]
  },
  {
   "cell_type": "markdown",
   "metadata": {},
   "source": [
    "**26.** Dado um número natural n na base decimal, crie uma função que permita trans-\n",
    "formá-lo para a base b."
   ]
  },
  {
   "cell_type": "code",
   "execution_count": 67,
   "metadata": {},
   "outputs": [
    {
     "data": {
      "text/plain": [
       "'2e-3232e-3222e-3212e-3202e-3191.999997e-3182e-3172e-3162e-3152e-3142.00000000003e-3132e-3122e-3112e-3102.000000000000004e-3092.0000000000000043e-3082.000000000000004e-3072.0000000000000042e-3062.0000000000000043e-3052.0000000000000044e-3042.0000000000000044e-3032.0000000000000043e-3022.0000000000000043e-3012.0000000000000044e-3002.0000000000000045e-2992.0000000000000045e-2982.0000000000000045e-2972.0000000000000044e-2962.0000000000000045e-2952.0000000000000046e-2942.0000000000000046e-2932.0000000000000046e-2922.0000000000000046e-2912.0000000000000047e-2902.0000000000000046e-2892.0000000000000045e-2882.0000000000000044e-2872.0000000000000043e-2862.0000000000000043e-2852.0000000000000043e-2842.0000000000000042e-2832.0000000000000042e-2822.0000000000000043e-2812.0000000000000043e-2802.0000000000000044e-2792.0000000000000043e-2782.0000000000000042e-2772.000000000000004e-2762.0000000000000044e-2752.0000000000000043e-2742.0000000000000043e-2732.0000000000000045e-2722.0000000000000044e-2712.0000000000000043e-2702.0000000000000043e-2692.0000000000000042e-2682.0000000000000043e-2672.0000000000000044e-2662.0000000000000044e-2652.0000000000000044e-2642.0000000000000043e-2632.0000000000000043e-2622.0000000000000043e-2612.0000000000000043e-2602.0000000000000042e-2592.000000000000004e-2582.000000000000004e-2572.000000000000004e-2562.000000000000004e-2552.000000000000004e-2542.000000000000004e-2532.000000000000004e-2522.000000000000004e-2512.0000000000000038e-2502.0000000000000038e-2492.000000000000004e-2482.000000000000004e-2472.000000000000004e-2462.000000000000004e-2452.0000000000000038e-2442.0000000000000036e-2432.0000000000000037e-2422.0000000000000036e-2412.0000000000000037e-2402.0000000000000036e-2392.0000000000000034e-2382.0000000000000035e-2372.0000000000000036e-2362.0000000000000034e-2352.0000000000000033e-2342.0000000000000033e-2332.0000000000000033e-2322.000000000000003e-2312.000000000000003e-2302.000000000000003e-2292.000000000000003e-2282.000000000000003e-2272.000000000000003e-2262.000000000000003e-2252.000000000000003e-2242.000000000000003e-2232.000000000000003e-2222.0000000000000027e-2212.0000000000000027e-2202.0000000000000026e-2192.0000000000000026e-2182.0000000000000026e-2172.0000000000000027e-2162.0000000000000027e-2152.0000000000000027e-2142.000000000000003e-2132.0000000000000028e-2122.0000000000000027e-2112.0000000000000028e-2102.0000000000000028e-2092.000000000000003e-2082.0000000000000026e-2072.0000000000000025e-2062.0000000000000027e-2052.0000000000000025e-2042.0000000000000023e-2032.0000000000000023e-2022.0000000000000024e-2012.0000000000000026e-2002.0000000000000025e-1992.0000000000000024e-1982.0000000000000023e-1972.0000000000000025e-1962.0000000000000025e-1952.0000000000000025e-1942.0000000000000025e-1932.0000000000000025e-1922.0000000000000025e-1912.0000000000000025e-1902.0000000000000025e-1892.0000000000000024e-1882.0000000000000023e-1872.0000000000000023e-1862.0000000000000023e-1852.0000000000000022e-1842.000000000000002e-1832.000000000000002e-1822.0000000000000022e-1812.000000000000002e-1802.000000000000002e-1792.000000000000002e-1782.000000000000002e-1772.000000000000002e-1762.0000000000000022e-1752.0000000000000022e-1742.0000000000000022e-1732.0000000000000024e-1722.0000000000000023e-1712.000000000000002e-1702.000000000000002e-1692.000000000000002e-1682.000000000000002e-1672.000000000000002e-1662.000000000000002e-1652.000000000000002e-1642.000000000000002e-1632.0000000000000021e-1622.000000000000002e-1612.0000000000000022e-1602.0000000000000023e-1592.000000000000002e-1582.000000000000002e-1572.0000000000000022e-1562.000000000000002e-1552.0000000000000023e-1542.0000000000000022e-1532.0000000000000023e-1522.0000000000000023e-1512.0000000000000022e-1502.000000000000002e-1492.0000000000000023e-1482.0000000000000022e-1472.000000000000002e-1462.000000000000002e-1452.000000000000002e-1442.000000000000002e-1432.000000000000002e-1422.0000000000000018e-1412.0000000000000018e-1402.000000000000002e-1392.000000000000002e-1382.0000000000000019e-1372.000000000000002e-1362.000000000000002e-1352.0000000000000018e-1342.0000000000000017e-1332.000000000000002e-1322.0000000000000017e-1312.0000000000000018e-1302.0000000000000018e-1292.0000000000000016e-1282.0000000000000017e-1272.000000000000002e-1262.0000000000000019e-1252.000000000000002e-1242.0000000000000018e-1232.0000000000000017e-1222.0000000000000017e-1212.0000000000000017e-1202.0000000000000017e-1192.0000000000000017e-1182.0000000000000018e-1172.000000000000002e-1162.000000000000002e-1152.000000000000002e-1142.000000000000002e-1132.000000000000002e-1122.000000000000002e-1112.000000000000002e-1102.0000000000000019e-1092.000000000000002e-1082.0000000000000018e-1072.0000000000000018e-1062.000000000000002e-1052.000000000000002e-1042.000000000000002e-1032.000000000000002e-1022.0000000000000017e-1012.0000000000000016e-1002.0000000000000017e-992.0000000000000015e-982.0000000000000014e-972.0000000000000015e-962.0000000000000016e-952.0000000000000015e-942.0000000000000015e-932.0000000000000013e-922.0000000000000014e-912.0000000000000013e-902.000000000000001e-892.0000000000000013e-882.0000000000000012e-872.0000000000000012e-862.000000000000001e-852.0000000000000012e-842.000000000000001e-832.000000000000001e-822.000000000000001e-812.000000000000001e-802.000000000000001e-792.000000000000001e-782.000000000000001e-772.000000000000001e-762.0000000000000011e-752.000000000000001e-742.000000000000001e-732.000000000000001e-722.000000000000001e-712.000000000000001e-702.000000000000001e-692.000000000000001e-682.000000000000001e-672.000000000000001e-662.000000000000001e-652.000000000000001e-642.000000000000001e-632.000000000000001e-622.000000000000001e-612.000000000000001e-602.000000000000001e-592.0000000000000008e-582.0000000000000008e-572.0000000000000008e-562.0000000000000007e-552.0000000000000006e-542.0000000000000008e-532.0000000000000008e-522.0000000000000006e-512.0000000000000007e-502.0000000000000006e-492.0000000000000006e-482.0000000000000004e-472.0000000000000004e-462.0000000000000006e-452.0000000000000007e-442.0000000000000006e-432.0000000000000007e-422.0000000000000008e-412.0000000000000007e-402.000000000000001e-392.000000000000001e-382.000000000000001e-372.000000000000001e-362.0000000000000008e-352.0000000000000007e-342.0000000000000008e-332.0000000000000007e-322.0000000000000006e-312.0000000000000005e-302.0000000000000004e-292.0000000000000004e-282.0000000000000004e-272.0000000000000004e-262.0000000000000003e-252.0000000000000002e-242.0000000000000002e-232e-222.0000000000000002e-212.0000000000000002e-202.0000000000000002e-192e-182e-172.0000000000000002e-162e-152.0000000000000003e-142.0000000000000003e-132.0000000000000004e-122.0000000000000005e-112.0000000000000006e-102.0000000000000005e-092.0000000000000004e-082.0000000000000004e-072.0000000000000003e-062e-050.00020.0020.020.22'"
      ]
     },
     "execution_count": 67,
     "metadata": {},
     "output_type": "execute_result"
    }
   ],
   "source": [
    "def converter(n, b):\n",
    "    resposta = ''\n",
    "    while n>0:\n",
    "        r = n%b\n",
    "        n = n/b\n",
    "        resposta = str(r)+resposta\n",
    "    return (resposta)\n",
    "\n",
    "converter(2, 10)"
   ]
  },
  {
   "cell_type": "markdown",
   "metadata": {},
   "source": [
    "# 4 Laços aninhados"
   ]
  },
  {
   "cell_type": "markdown",
   "metadata": {},
   "source": [
    "**1.** Crie uma função para imprimir a tabuada de a até b. Considere a ≤ b."
   ]
  },
  {
   "cell_type": "code",
   "execution_count": 14,
   "metadata": {},
   "outputs": [
    {
     "name": "stdout",
     "output_type": "stream",
     "text": [
      "Digite a: 12\n",
      "Digite b: 2\n",
      "\"A\" deve ser menor ou igual a \"B\"\n"
     ]
    }
   ],
   "source": [
    "a = int(input('Digite a: '))\n",
    "b = int(input('Digite b: '))\n",
    "\n",
    "def tabuada1(a, b):\n",
    "    \n",
    "    \n",
    "    if a <= b:\n",
    "        for i in range(a, b+1):\n",
    "            print (\"\\nTabuada: \"+str(i))\n",
    "            for j in range(0, 11):\n",
    "                print(i, ' x ', j, ' = ', (i*j))\n",
    "    \n",
    "    else:\n",
    "        print('\"A\" deve ser menor ou igual a \"B\"')\n",
    "        \n",
    "\n",
    "        \n",
    "tabuada1(a, b)\n",
    "                "
   ]
  },
  {
   "cell_type": "code",
   "execution_count": 15,
   "metadata": {},
   "outputs": [
    {
     "name": "stdout",
     "output_type": "stream",
     "text": [
      "\n",
      "Tabuada: 1\n",
      "1x1=1\n",
      "1x2=2\n",
      "1x3=3\n",
      "1x4=4\n",
      "1x5=5\n",
      "1x6=6\n",
      "1x7=7\n",
      "1x8=8\n",
      "1x9=9\n",
      "1x10=10\n",
      "\n",
      "Tabuada: 2\n",
      "2x1=2\n",
      "2x2=4\n",
      "2x3=6\n",
      "2x4=8\n",
      "2x5=10\n",
      "2x6=12\n",
      "2x7=14\n",
      "2x8=16\n",
      "2x9=18\n",
      "2x10=20\n",
      "\n",
      "Tabuada: 3\n",
      "3x1=3\n",
      "3x2=6\n",
      "3x3=9\n",
      "3x4=12\n",
      "3x5=15\n",
      "3x6=18\n",
      "3x7=21\n",
      "3x8=24\n",
      "3x9=27\n",
      "3x10=30\n"
     ]
    }
   ],
   "source": [
    "# Resolução da apostila\n",
    "\n",
    "def tabuada(a,b):\n",
    "    for i in range(a,b+1):\n",
    "        print (\"\\nTabuada: \"+str(i))\n",
    "        for j in range(1,11):\n",
    "            print (str(i)+\"x\"+str(j)+\"=\"+str(i*j))\n",
    "            \n",
    "tabuada(1, 3)\n"
   ]
  },
  {
   "cell_type": "markdown",
   "metadata": {},
   "source": [
    "**2.** Dada a função:\n",
    "Indique algebricamente a somatória que a função realiza."
   ]
  },
  {
   "cell_type": "code",
   "execution_count": 16,
   "metadata": {},
   "outputs": [
    {
     "data": {
      "text/plain": [
       "5500"
      ]
     },
     "execution_count": 16,
     "metadata": {},
     "output_type": "execute_result"
    }
   ],
   "source": [
    "def funcao(n):\n",
    "    soma = 0\n",
    "    for i in range(1, n+1):\n",
    "        for j in range(1, n+1):\n",
    "            for k in range(1, n+1):\n",
    "                soma = soma + i\n",
    "    return soma\n",
    "\n",
    "funcao(10)"
   ]
  },
  {
   "cell_type": "markdown",
   "metadata": {},
   "source": [
    "**3.** Dados os números reais x e \u000f > 0, calcular a aproximação para e x usando a seguinte\n",
    "expansão da Série de Taylor:\n",
    "1 + x¹/1! + x²/2! + x³/3! + (x ** 4)/4! + (x ** 5)/5! + ... \n",
    "Incluindo todos os termos da série até que:\n",
    "|x ** k| / |k!| < epsilon"
   ]
  },
  {
   "cell_type": "code",
   "execution_count": 20,
   "metadata": {},
   "outputs": [
    {
     "data": {
      "text/plain": [
       "15.0"
      ]
     },
     "execution_count": 20,
     "metadata": {},
     "output_type": "execute_result"
    }
   ],
   "source": [
    "def exp2(x, epsilon):\n",
    "    x = float(x)\n",
    "    soma = 1\n",
    "    i = 1\n",
    "    while True:\n",
    "        fact = 1\n",
    "        for i in range(1, i + 1):\n",
    "            fact = fact * i\n",
    "        termo = (x ** i)/fact\n",
    "        soma = soma + termo\n",
    "        if abs(termo) < epsilon:\n",
    "            break\n",
    "        i = i + 1\n",
    "        \n",
    "    return soma\n",
    "\n",
    "exp2(14,100)\n"
   ]
  },
  {
   "cell_type": "markdown",
   "metadata": {},
   "source": [
    "**6.** O matemático Srinivasa Ramanujan encontrou uma série infinita, que pode ser usada\n",
    "para gerar uma aproximação numérica de pi:"
   ]
  },
  {
   "cell_type": "code",
   "execution_count": 27,
   "metadata": {},
   "outputs": [
    {
     "data": {
      "text/plain": [
       "3.141592653589793"
      ]
     },
     "execution_count": 27,
     "metadata": {},
     "output_type": "execute_result"
    }
   ],
   "source": [
    "# Solucao 1\n",
    "from math import sqrt\n",
    "def estimar_pi():\n",
    "    soma = 0.0\n",
    "    termo = 1.0\n",
    "    k = 0\n",
    "    while termo>=1e-15:\n",
    "        fact = 1\n",
    "        for i in range(1,4*k+1):\n",
    "            fact = fact*i\n",
    "        fact2 = 1\n",
    "        for i in range(1,k+1):\n",
    "            fact2 = fact2*i\n",
    "        termo = (fact*(1103+26390*k))/((fact2**4)*396**(4*k))\n",
    "        soma = soma+termo\n",
    "        k = k+1\n",
    "    return (1/((2*sqrt(2)/9801)*soma))\n",
    "\n",
    "estimar_pi()"
   ]
  },
  {
   "cell_type": "markdown",
   "metadata": {},
   "source": [
    "**7.** Dado um inteiro positivo n, imprimir as n primeiras linhas do triângulo de Pascal."
   ]
  },
  {
   "cell_type": "code",
   "execution_count": 30,
   "metadata": {},
   "outputs": [
    {
     "name": "stdout",
     "output_type": "stream",
     "text": [
      "[1]\n",
      "[1, 1]\n",
      "[1, 2, 1]\n",
      "[1, 3, 3, 1]\n",
      "[1, 4, 6, 4, 1]\n",
      "[1, 5, 10, 10, 5, 1]\n",
      "[1, 6, 15, 20, 15, 6, 1]\n",
      "[1, 7, 21, 35, 35, 21, 7, 1]\n",
      "[1, 8, 28, 56, 70, 56, 28, 8, 1]\n",
      "[1, 9, 36, 84, 126, 126, 84, 36, 9, 1]\n"
     ]
    }
   ],
   "source": [
    "# Solucao 2\n",
    "def criar_matriz_uns(l,c):\n",
    "    matriz = [1]*l\n",
    "    for i in range(0,l):\n",
    "        matriz[i] = [1]*c\n",
    "    return matriz\n",
    "\n",
    "\n",
    "def pascal2(n):\n",
    "    M = criar_matriz_uns (n, n)\n",
    "    for i in range (0, len(M)):\n",
    "        for j in range (0, len(M[0])):\n",
    "            if i<j:\n",
    "                M[i][j] = 0\n",
    "    k = 0\n",
    "    while k < n:\n",
    "        i = k\n",
    "        for j in range (1,i):\n",
    "            M[i][j] = M[i-1][j-1] + M[i-1][j]\n",
    "        print (M[i][0:i+1])\n",
    "        k = k+1\n",
    "        \n",
    "pascal2(10)"
   ]
  },
  {
   "cell_type": "markdown",
   "metadata": {},
   "source": [
    "**8.** Dados dois inteiros positivos m e n, determinar, entre todos os pares de números\n",
    "inteiros (x,y) tais que 0 ≤ x ≤ m, e 0 ≤ y ≤ n, um par para o qual o valor da\n",
    "expressão: xy − x 2 + y seja máximo, e calcular também esse máximo."
   ]
  },
  {
   "cell_type": "code",
   "execution_count": 32,
   "metadata": {},
   "outputs": [
    {
     "name": "stdout",
     "output_type": "stream",
     "text": [
      "Maximo: 11\n",
      "Par: 3,5\n"
     ]
    }
   ],
   "source": [
    "def maximo(m,n):\n",
    "    max = 0\n",
    "    indx = 0\n",
    "    indy = 0\n",
    "    for x in range(0,m+1):\n",
    "        for y in range(0,n+1):\n",
    "            if max <= x*y-x**2+y:\n",
    "                max = x*y-x**2+y\n",
    "                indx = x\n",
    "                indy = y\n",
    "                \n",
    "    print ('Maximo: '+str(max))\n",
    "    print ('Par: '+str(indx)+','+str(indy))\n",
    "    \n",
    "    \n",
    "maximo(20, 5)\n",
    "    \n",
    "                \n",
    "                \n",
    "            \n",
    "        \n",
    "    "
   ]
  },
  {
   "cell_type": "code",
   "execution_count": 24,
   "metadata": {},
   "outputs": [
    {
     "data": {
      "text/plain": [
       "43466557686937456435688527675040625802564660517371780402481729089536555417949051890403879840079255169295922593080322634775209689623239873322471161642996440906533187938298969649928516003704476137795166849228875"
      ]
     },
     "execution_count": 24,
     "metadata": {},
     "output_type": "execute_result"
    }
   ],
   "source": [
    "# fibonacci \n",
    "def fibonacci(n):\n",
    "    n1 = 0\n",
    "    n2 = 1\n",
    "    f = 1\n",
    "    if (n == 0):\n",
    "        return n1\n",
    "    elif (n == 2):\n",
    "        return n2\n",
    "    else:\n",
    "        for i in range(3, n+1):\n",
    "                n1 = n2\n",
    "                n2 = f\n",
    "                f = n1 + n2\n",
    "        return f\n",
    "            \n",
    "    \n",
    "    \n",
    "    \n",
    "    \n",
    "    \n",
    "    \n",
    "    \n",
    "    \n",
    "    \n",
    "fibonacci(1000)"
   ]
  },
  {
   "cell_type": "code",
   "execution_count": 46,
   "metadata": {},
   "outputs": [
    {
     "data": {
      "text/plain": [
       "2"
      ]
     },
     "execution_count": 46,
     "metadata": {},
     "output_type": "execute_result"
    }
   ],
   "source": [
    "def fib(n):\n",
    "    \n",
    "    t1 = 0\n",
    "    t2 = 1\n",
    "    \n",
    "    if n != 0:\n",
    "        for k in range(0, n):\n",
    "            seguinte = t1 + t2\n",
    "            t1 = t2\n",
    "            t2 = seguinte          \n",
    "\n",
    "        return seguinte\n",
    "    \n",
    "    else:\n",
    "        return 0\n",
    "        \n",
    "        \n",
    "#fib(0)\n",
    "#fib(1)\n",
    "fib(2)\n",
    "#fib(3)\n",
    "#fib(4)\n",
    "#fib(5)\n",
    "#fib(1000)"
   ]
  },
  {
   "cell_type": "markdown",
   "metadata": {},
   "source": [
    "### Conte o número de duplicados\n",
    "Escreva uma função que retornará a contagem de caracteres alfabéticos distintos que não diferenciam maiúsculas de minúsculas e dígitos numéricos que ocorrem mais de uma vez na string de entrada. Pode-se presumir que a string de entrada contém apenas letras (maiúsculas e minúsculas) e dígitos numéricos.\n",
    "\n"
   ]
  },
  {
   "cell_type": "markdown",
   "metadata": {},
   "source": [
    "### Exemplo\n",
    "\"abcde\" -> 0 # no characters repeats more than once <br>\n",
    "\"aabbcde\" -> 2 # 'a' and 'b'<br>\n",
    "\"aabBcde\" -> 2 # 'a' occurs twice and 'b' twice (`b` and `B`)<br>\n",
    "\"indivisibilidade\" -> 1 # 'i' occurs six times<br>\n",
    "\"Indivisibilidades\" -> 2 # 'i' occurs seven times and 's' occurs twice<br>\n",
    "\"aA11\" -> 2 # 'a' and '1'<br>\n",
    "\"ABBA\" -> 2 # 'A' and 'B' each occur<br>"
   ]
  },
  {
   "cell_type": "code",
   "execution_count": 53,
   "metadata": {},
   "outputs": [
    {
     "data": {
      "text/plain": [
       "1"
      ]
     },
     "execution_count": 53,
     "metadata": {},
     "output_type": "execute_result"
    }
   ],
   "source": [
    "def duplicate_count(text):\n",
    "    # Your code goes here\n",
    "    new_text = text.lower()\n",
    "\n",
    "    count = 0\n",
    "    dictionary = {}\n",
    "\n",
    "    for i in range(0,len(new_text)):\n",
    "        dictionary[new_text[i]] = 0\n",
    "\n",
    "    for key in dictionary:\n",
    "        for i in range(0,len(new_text)):\n",
    "            if(key == new_text[i]):\n",
    "                dictionary[key] = dictionary[key] + 1\n",
    "\n",
    "    for key in dictionary:\n",
    "        if(dictionary[key] > 1):\n",
    "            count = count + 1\n",
    "\n",
    "    \n",
    "    return count\n",
    "\n",
    "duplicate_count(\"abcdeaa\")"
   ]
  },
  {
   "cell_type": "code",
   "execution_count": null,
   "metadata": {},
   "outputs": [],
   "source": []
  }
 ],
 "metadata": {
  "kernelspec": {
   "display_name": "Python 3",
   "language": "python",
   "name": "python3"
  },
  "language_info": {
   "codemirror_mode": {
    "name": "ipython",
    "version": 3
   },
   "file_extension": ".py",
   "mimetype": "text/x-python",
   "name": "python",
   "nbconvert_exporter": "python",
   "pygments_lexer": "ipython3",
   "version": "3.8.5"
  }
 },
 "nbformat": 4,
 "nbformat_minor": 4
}
