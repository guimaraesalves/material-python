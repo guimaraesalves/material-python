{
 "cells": [
  {
   "cell_type": "code",
   "execution_count": 22,
   "metadata": {},
   "outputs": [
    {
     "name": "stdout",
     "output_type": "stream",
     "text": [
      "[8, 5, 5, 5, 5, 9, 9]\n"
     ]
    }
   ],
   "source": [
    "from random import randint\n",
    "\n",
    "\n",
    "lista = []\n",
    "\n",
    "for c in range(1,8):\n",
    "    num = randint(0,9)\n",
    "    lista.append(num)\n",
    "    \n",
    "print(lista)\n",
    "    "
   ]
  },
  {
   "cell_type": "code",
   "execution_count": 23,
   "metadata": {},
   "outputs": [
    {
     "name": "stdout",
     "output_type": "stream",
     "text": [
      "Quantos jogos vc quer fazer?2\n",
      "[2, 8, 1, 8, 7, 2, 2]\n",
      "[2, 8, 7, 0, 5, 5, 7]\n",
      "Seu jogo vencedor!\n"
     ]
    }
   ],
   "source": [
    "from random import randint\n",
    "\n",
    "numero = int(input(\"Quantos jogos vc quer fazer?\"))\n",
    "\n",
    "\n",
    "lista = []\n",
    "\n",
    "\n",
    "\n",
    "for cont in range(1, numero + 1):\n",
    "    for c in range(1,8):\n",
    "        num = randint(0,9)\n",
    "        lista.append(num)\n",
    "    print(lista)\n",
    "    lista.clear()\n",
    "    \n",
    "print('Seu jogo vencedor!')\n",
    "        \n",
    "    \n",
    "    \n",
    "    \n"
   ]
  },
  {
   "cell_type": "code",
   "execution_count": null,
   "metadata": {},
   "outputs": [],
   "source": []
  }
 ],
 "metadata": {
  "kernelspec": {
   "display_name": "Python 3",
   "language": "python",
   "name": "python3"
  },
  "language_info": {
   "codemirror_mode": {
    "name": "ipython",
    "version": 3
   },
   "file_extension": ".py",
   "mimetype": "text/x-python",
   "name": "python",
   "nbconvert_exporter": "python",
   "pygments_lexer": "ipython3",
   "version": "3.8.5"
  }
 },
 "nbformat": 4,
 "nbformat_minor": 4
}
